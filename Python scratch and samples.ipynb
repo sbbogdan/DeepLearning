{
 "cells": [
  {
   "cell_type": "markdown",
   "metadata": {},
   "source": [
    "### Python scratch and samples\n",
    "\n",
    "*Created*: Jan 2017\n",
    "\n",
    "[markdown cheat sheet](https://github.com/adam-p/markdown-here/wiki/Markdown-Cheatsheet)\n",
    "[git cheat sheet](https://education.github.com/git-cheat-sheet-education.pdf)"
   ]
  },
  {
   "cell_type": "markdown",
   "metadata": {},
   "source": [
    "#### COMMON IMPORTS: Run these first.\n",
    "(... and update if new imports are needed)"
   ]
  },
  {
   "cell_type": "code",
   "execution_count": 6,
   "metadata": {},
   "outputs": [],
   "source": [
    "import numpy as np\n",
    "import pandas as pd\n",
    "import time\n",
    "import sys\n",
    "\n",
    "from collections import Counter"
   ]
  },
  {
   "cell_type": "markdown",
   "metadata": {},
   "source": [
    "#### SECTION: Arrays, Numpy Arrays, and Linear Algebra / Matrix Math"
   ]
  },
  {
   "cell_type": "markdown",
   "metadata": {},
   "source": [
    "**Description**: Dot product of two numpy arrays. Both are sized (n, ) (1-dimensional). "
   ]
  },
  {
   "cell_type": "code",
   "execution_count": 1,
   "metadata": {},
   "outputs": [
    {
     "name": "stdout",
     "output_type": "stream",
     "text": [
      "(3,) (3,) () 38\n"
     ]
    }
   ],
   "source": [
    "a1 = np.array([1, 3, 3])\n",
    "a2 = np.array([2, 4, 8]) \n",
    "\n",
    "a3 = a1.dot(a2)\n",
    "\n",
    "print (a1.shape, a2.shape, a3.shape, a3)"
   ]
  },
  {
   "cell_type": "markdown",
   "metadata": {},
   "source": [
    "**Description**: Simple numpy dot product tests; testing of ordering of arguments results in different outputs"
   ]
  },
  {
   "cell_type": "code",
   "execution_count": 9,
   "metadata": {},
   "outputs": [
    {
     "name": "stdout",
     "output_type": "stream",
     "text": [
      "C: [[33]]\n",
      "D: [[ 3  9  4]\n",
      " [ 6 18  8]\n",
      " [ 9 27 12]]\n"
     ]
    }
   ],
   "source": [
    "A = np.array([[1], [2], [3]]) # Size [3, 1]\n",
    "B = np.array([[3, 9, 4]]) # Size [1, 3]\n",
    "\n",
    "C = B.dot(A) # B [1, 3] . A [3, 1] = C [1, 1]\n",
    "D = A.dot(B) # A [3, 1] . B [1, 3] = D [3, 3]\n",
    "\n",
    "print ('C:', C)\n",
    "print ('D:', D)"
   ]
  },
  {
   "cell_type": "markdown",
   "metadata": {},
   "source": [
    "#### SECTION: Sets and Lists"
   ]
  },
  {
   "cell_type": "markdown",
   "metadata": {},
   "source": [
    "**Description**: Out of bounds range indexing in an list still works my_list[2:7] in list of size 5. Index simply reads until the end of the list."
   ]
  },
  {
   "cell_type": "code",
   "execution_count": 1,
   "metadata": {
    "scrolled": true
   },
   "outputs": [
    {
     "name": "stdout",
     "output_type": "stream",
     "text": [
      "[3, 2, 1]\n"
     ]
    }
   ],
   "source": [
    "sample_list = [2, 5, 3, 2, 1]\n",
    "\n",
    "print (sample_list[2:7])"
   ]
  },
  {
   "cell_type": "markdown",
   "metadata": {},
   "source": [
    "**Description**: Lists are pass by reference, not instance."
   ]
  },
  {
   "cell_type": "code",
   "execution_count": 4,
   "metadata": {},
   "outputs": [
    {
     "name": "stdout",
     "output_type": "stream",
     "text": [
      "original: ['a', 'b', 'c']\n",
      "passed to function: ['d', 'b', 'f']\n"
     ]
    }
   ],
   "source": [
    "def modify_params(thelist):\n",
    "    thelist[0] = 'd'\n",
    "    thelist[2] = 'f'\n",
    "\n",
    "thelist = ['a', 'b', 'c']\n",
    "print('original:', thelist)\n",
    "\n",
    "modify_params(thelist)\n",
    "print('passed to function:', thelist)"
   ]
  },
  {
   "cell_type": "markdown",
   "metadata": {},
   "source": [
    "#### SECTION: Loops"
   ]
  },
  {
   "cell_type": "markdown",
   "metadata": {},
   "source": [
    "**Description**: Using an existing integer to create the equivalent C style for (int i=0, i < value; i++) { ... }"
   ]
  },
  {
   "cell_type": "code",
   "execution_count": 4,
   "metadata": {},
   "outputs": [
    {
     "name": "stdout",
     "output_type": "stream",
     "text": [
      "0\n",
      "1\n",
      "2\n",
      "3\n",
      "4\n",
      "5\n",
      "6\n",
      "7\n",
      "8\n",
      "9\n"
     ]
    }
   ],
   "source": [
    "loop_terminal = 10\n",
    "\n",
    "for index in range(loop_terminal):\n",
    "    print(index)"
   ]
  },
  {
   "cell_type": "code",
   "execution_count": null,
   "metadata": {},
   "outputs": [],
   "source": []
  }
 ],
 "metadata": {
  "kernelspec": {
   "display_name": "Python 3",
   "language": "python",
   "name": "python3"
  },
  "language_info": {
   "codemirror_mode": {
    "name": "ipython",
    "version": 3
   },
   "file_extension": ".py",
   "mimetype": "text/x-python",
   "name": "python",
   "nbconvert_exporter": "python",
   "pygments_lexer": "ipython3",
   "version": "3.5.4"
  }
 },
 "nbformat": 4,
 "nbformat_minor": 2
}
