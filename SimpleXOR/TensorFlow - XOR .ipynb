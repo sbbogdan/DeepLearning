{
 "cells": [
  {
   "cell_type": "markdown",
   "metadata": {},
   "source": [
    "## Simple XOR example using Tensorflow\n",
    "\n",
    "**Description**: The 'Hello World' of practical Tensorflow examples.\n",
    "\n",
    "**Created**: 4/2018"
   ]
  },
  {
   "cell_type": "markdown",
   "metadata": {},
   "source": [
    "### Imports"
   ]
  },
  {
   "cell_type": "code",
   "execution_count": 2,
   "metadata": {},
   "outputs": [],
   "source": [
    "import matplotlib.pyplot as plt\n",
    "import numpy as np\n",
    "import pandas as pd\n",
    "\n",
    "import tensorflow as tf"
   ]
  },
  {
   "cell_type": "markdown",
   "metadata": {},
   "source": [
    "### Prepare Data"
   ]
  },
  {
   "cell_type": "code",
   "execution_count": 3,
   "metadata": {},
   "outputs": [],
   "source": [
    "# XOR dataset\n",
    "training_data = np.array([[0, 0], [0, 1], [1,0], [1, 1]])\n",
    "training_targets = np.array([[0], [1], [1], [0]])"
   ]
  },
  {
   "cell_type": "markdown",
   "metadata": {},
   "source": [
    "### Build network"
   ]
  },
  {
   "cell_type": "code",
   "execution_count": 4,
   "metadata": {},
   "outputs": [],
   "source": [
    "# network shape\n",
    "n_input = training_data.shape[1]\n",
    "n_hidden = 5\n",
    "n_classes = 1\n",
    "\n",
    "# hyperparameters\n",
    "training_epochs = 100\n",
    "learning_rate = 0.1\n",
    "display_step = 10\n",
    "\n",
    "# model filename for save/load\n",
    "model_filename = './tf_model.ckpt'"
   ]
  },
  {
   "cell_type": "code",
   "execution_count": 5,
   "metadata": {},
   "outputs": [],
   "source": [
    "# Clear default graph\n",
    "tf.reset_default_graph()\n",
    "\n",
    "# Create tensorflow input placeholders\n",
    "tf_inputs = tf.placeholder(shape=[None, n_input], dtype=tf.float32, name='inputs')\n",
    "tf_targets = tf.placeholder(shape=[None, n_classes], dtype=tf.float32, name='targets')\n",
    "\n",
    "# Create network\n",
    "tf_hidden = tf.layers.dense(tf_inputs, n_hidden, activation=tf.nn.sigmoid, name='tf_hidden')\n",
    "tf_output = tf.layers.dense(tf_hidden, n_classes, activation=tf.nn.sigmoid, name='tf_output')\n",
    "\n",
    "tf_loss = tf.reduce_mean((tf_output - tf_targets)**2) #MSE\n",
    "tf_train = tf.train.AdamOptimizer(learning_rate).minimize(tf_loss)\n",
    "\n",
    "# Alternatively try with GradientDescentOptimizer, RMSPropOptimizer; use hyper-parameter table within 'Observations' section"
   ]
  },
  {
   "cell_type": "markdown",
   "metadata": {},
   "source": [
    "### Train Network"
   ]
  },
  {
   "cell_type": "code",
   "execution_count": 6,
   "metadata": {},
   "outputs": [
    {
     "name": "stdout",
     "output_type": "stream",
     "text": [
      "Epoch: 0010  Loss: 0.246570\r",
      "Epoch: 0020  Loss: 0.222597\r",
      "Epoch: 0030  Loss: 0.161106\r",
      "Epoch: 0040  Loss: 0.078494\r",
      "Epoch: 0050  Loss: 0.026476\r",
      "Epoch: 0060  Loss: 0.009893\r",
      "Epoch: 0070  Loss: 0.005068\r",
      "Epoch: 0080  Loss: 0.003329\r",
      "Epoch: 0090  Loss: 0.002523\r",
      "Epoch: 0100  Loss: 0.002065\r"
     ]
    }
   ],
   "source": [
    "# Initializing the variables\n",
    "init = tf.global_variables_initializer()\n",
    "\n",
    "# For saving weights after training\n",
    "saver = tf.train.Saver()\n",
    "\n",
    "# Train\n",
    "with tf.Session() as sess:\n",
    "    loss_data, epoch_data = [], []\n",
    "    \n",
    "    sess.run(init)\n",
    "\n",
    "    # Training cycle\n",
    "    for epoch in range(1, training_epochs+1):\n",
    "        # Train the graph\n",
    "        _, l = sess.run([tf_train, tf_loss], feed_dict={ tf_inputs : training_data,\n",
    "                                                         tf_targets : training_targets})\n",
    "        \n",
    "        # Every 'display_step' epochs, display the current loss\n",
    "        if epoch % display_step == 0:\n",
    "            print(\"Epoch:\", '%04d' % (epoch), \" Loss: {:.6f}\".format(l), end='\\r')\n",
    "            \n",
    "            # for graphing \n",
    "            loss_data.append(l)\n",
    "            epoch_data.append(epoch)\n",
    "    \n",
    "    # Save graph and weights\n",
    "    saver.save(sess, model_filename)"
   ]
  },
  {
   "cell_type": "markdown",
   "metadata": {},
   "source": [
    "### Plot"
   ]
  },
  {
   "cell_type": "code",
   "execution_count": 7,
   "metadata": {},
   "outputs": [
    {
     "data": {
      "text/plain": [
       "[<matplotlib.lines.Line2D at 0x176133fdcf8>]"
      ]
     },
     "execution_count": 7,
     "metadata": {},
     "output_type": "execute_result"
    },
    {
     "data": {
      "image/png": "[encoded data removed]",
      "text/plain": [
       "<matplotlib.figure.Figure at 0x17612d30cf8>"
      ]
     },
     "metadata": {},
     "output_type": "display_data"
    }
   ],
   "source": [
    "### Plot loss over epochs\n",
    "plt.plot(epoch_data, loss_data)"
   ]
  },
  {
   "cell_type": "markdown",
   "metadata": {},
   "source": [
    "### Test"
   ]
  },
  {
   "cell_type": "code",
   "execution_count": 8,
   "metadata": {},
   "outputs": [
    {
     "name": "stdout",
     "output_type": "stream",
     "text": [
      "INFO:tensorflow:Restoring parameters from ./tf_model.ckpt\n",
      "Accuracy: 95.9106%\n"
     ]
    }
   ],
   "source": [
    "# load weights\n",
    "with tf.Session() as sess:\n",
    "    # Restore graph and weights\n",
    "    saver.restore(sess, model_filename)\n",
    "\n",
    "    # Test\n",
    "    prediction = sess.run([tf_output], feed_dict={tf_inputs : training_data})\n",
    "    \n",
    "    # Accuracy\n",
    "    accuracy = 1 - np.mean(abs(training_targets - prediction))\n",
    "    print('Accuracy: {:.4f}%'.format(accuracy * 100))"
   ]
  },
  {
   "cell_type": "markdown",
   "metadata": {},
   "source": [
    "## Observations\n",
    "\n",
    "- Using Adam, RMSProp optimizers with same learning rate can learn at similar accuracy within significantly fewer epochs.\n",
    "\n",
    "#### Optimizer performance\n",
    "\n",
    "| Optimizer | Epochs | Accuracy |\n",
    "| --------- | ------ | -------- |\n",
    "| Adam | 100 | ~ 95% |\n",
    "| GradientDescent | 20,000 | ~ 95% |\n",
    "| RMSProp | 200 | ~ 97.5% |"
   ]
  }
 ],
 "metadata": {
  "kernelspec": {
   "display_name": "Python 3",
   "language": "python",
   "name": "python3"
  },
  "language_info": {
   "codemirror_mode": {
    "name": "ipython",
    "version": 3
   },
   "file_extension": ".py",
   "mimetype": "text/x-python",
   "name": "python",
   "nbconvert_exporter": "python",
   "pygments_lexer": "ipython3",
   "version": "3.6.3"
  }
 },
 "nbformat": 4,
 "nbformat_minor": 2
}
