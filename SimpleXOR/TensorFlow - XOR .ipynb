{
 "cells": [
  {
   "cell_type": "markdown",
   "metadata": {},
   "source": [
    "## Simple XOR example using Tensorflow\n",
    "\n",
    "**Description**: The 'Hello World' of practical Tensorflow examples.\n",
    "\n",
    "**Created**: 4/2018"
   ]
  },
  {
   "cell_type": "markdown",
   "metadata": {},
   "source": [
    "### Imports"
   ]
  },
  {
   "cell_type": "code",
   "execution_count": 164,
   "metadata": {},
   "outputs": [],
   "source": [
    "import matplotlib.pyplot as plt\n",
    "import numpy as np\n",
    "import pandas as pd\n",
    "\n",
    "import tensorflow as tf"
   ]
  },
  {
   "cell_type": "markdown",
   "metadata": {},
   "source": [
    "### Prepare Data"
   ]
  },
  {
   "cell_type": "code",
   "execution_count": 7,
   "metadata": {},
   "outputs": [],
   "source": [
    "# XOR dataset\n",
    "training_data = np.array([[0, 0], [0, 1], [1,0], [1, 1]])\n",
    "training_targets = np.array([[0], [1], [1], [0]])"
   ]
  },
  {
   "cell_type": "markdown",
   "metadata": {},
   "source": [
    "### Build network"
   ]
  },
  {
   "cell_type": "code",
   "execution_count": 205,
   "metadata": {},
   "outputs": [],
   "source": [
    "# network shape\n",
    "n_input = training_data.shape[1]\n",
    "n_hidden = 5\n",
    "n_classes = 1\n",
    "\n",
    "# hyperparameters\n",
    "training_epochs = 75\n",
    "learning_rate = 0.1\n",
    "display_step = 10\n",
    "\n",
    "# network save\n",
    "save_path = './tmp/model.ckpt'"
   ]
  },
  {
   "cell_type": "code",
   "execution_count": 210,
   "metadata": {},
   "outputs": [],
   "source": [
    "# Clear default graph\n",
    "tf.reset_default_graph()\n",
    "\n",
    "# Create tensorflow input placeholders\n",
    "tf_inputs = tf.placeholder(shape=[None, n_input], dtype=tf.float32, name='inputs')\n",
    "tf_targets = tf.placeholder(shape=[None, n_classes], dtype=tf.float32, name='targets')\n",
    "\n",
    "# Create network\n",
    "tf_hidden = tf.layers.dense(tf_inputs, n_hidden, activation=tf.nn.sigmoid, name='tf_hidden')\n",
    "tf_output = tf.layers.dense(tf_hidden, n_classes, activation=tf.nn.sigmoid, name='tf_output')\n",
    "\n",
    "tf_loss = tf.reduce_mean((tf_output - tf_targets)**2) #MSE\n",
    "tf_train = tf.train.AdamOptimizer(learning_rate).minimize(tf_loss)\n",
    "\n",
    "# Alternatively try with GradientDescentOptimizer, RMSPropOptimizer; use hyper-parameter table within 'Observations' section"
   ]
  },
  {
   "cell_type": "markdown",
   "metadata": {},
   "source": [
    "### Train Network"
   ]
  },
  {
   "cell_type": "code",
   "execution_count": 211,
   "metadata": {},
   "outputs": [
    {
     "name": "stdout",
     "output_type": "stream",
     "text": [
      "Epoch: 0000 loss=0.252538\r",
      "Epoch: 0010 loss=0.248188\r",
      "Epoch: 0020 loss=0.233622\r",
      "Epoch: 0030 loss=0.168545\r",
      "Epoch: 0040 loss=0.071208\r",
      "Epoch: 0050 loss=0.020366\r",
      "Epoch: 0060 loss=0.006953\r",
      "Epoch: 0070 loss=0.003370\r"
     ]
    }
   ],
   "source": [
    "# Initializing the variables\n",
    "init = tf.global_variables_initializer()\n",
    "\n",
    "# For saving weights after training\n",
    "saver = tf.train.Saver()\n",
    "\n",
    "# Train\n",
    "with tf.Session() as sess:\n",
    "    loss_data, epoch_data = [], []\n",
    "    \n",
    "    sess.run(init)\n",
    "\n",
    "    # Training cycle\n",
    "    for epoch in range(training_epochs):\n",
    "        # Train the graph\n",
    "        _, l = sess.run([tf_train, tf_loss], feed_dict={ tf_inputs : training_data,\n",
    "                                                         tf_targets : training_targets})\n",
    "        \n",
    "        # Every 'display_step' epochs, display the current loss\n",
    "        if epoch % display_step == 0:\n",
    "            print(\"Epoch:\", '%04d' % (epoch), \"loss={:.6f}\".format(l), end='\\r')\n",
    "            \n",
    "            # for graphing \n",
    "            loss_data.append(l)\n",
    "            epoch_data.append(epoch)\n",
    "    \n",
    "    # Save graph and weights\n",
    "    saver.save(sess, './model.ckpt')"
   ]
  },
  {
   "cell_type": "code",
   "execution_count": 212,
   "metadata": {},
   "outputs": [
    {
     "data": {
      "text/plain": [
       "[<matplotlib.lines.Line2D at 0x19aec510550>]"
      ]
     },
     "execution_count": 212,
     "metadata": {},
     "output_type": "execute_result"
    },
    {
     "data": {
      "image/png": "[encoded data removed]",
      "text/plain": [
       "<matplotlib.figure.Figure at 0x19aebf88f28>"
      ]
     },
     "metadata": {},
     "output_type": "display_data"
    }
   ],
   "source": [
    "### Plot loss over epochs\n",
    "plt.plot(epoch_data, loss_data)"
   ]
  },
  {
   "cell_type": "markdown",
   "metadata": {},
   "source": [
    "### Test"
   ]
  },
  {
   "cell_type": "code",
   "execution_count": 213,
   "metadata": {},
   "outputs": [
    {
     "name": "stdout",
     "output_type": "stream",
     "text": [
      "INFO:tensorflow:Restoring parameters from ./model.ckpt\n",
      "Accuracy: 94.9522%\n"
     ]
    }
   ],
   "source": [
    "# load weights\n",
    "with tf.Session() as sess:\n",
    "    # Restore graph and weights\n",
    "    saver.restore(sess, \"./model.ckpt\")\n",
    "\n",
    "    # Test\n",
    "    prediction = sess.run([tf_output], feed_dict={tf_inputs : training_data})\n",
    "    accuracy = 1 - np.mean(abs(training_targets - prediction))\n",
    "    \n",
    "    # Accuracy\n",
    "    print('Accuracy: {:.4f}%'.format(accuracy * 100))"
   ]
  },
  {
   "cell_type": "markdown",
   "metadata": {},
   "source": [
    "## Observations\n",
    "\n",
    "- Using Adam, RMSProp optimizers with same learning rate can learn at similar accuracy within significantly fewer epochs.\n",
    "\n",
    "#### Optimizer performance\n",
    "\n",
    "| Optimizer | Epochs | Accuracy |\n",
    "| --------- | ------ | -------- |\n",
    "| Adam | 75 | ~ 92.0% |\n",
    "| Gradient Descent | 20,000 | ~ 95% |\n",
    "| RMSProp | 200 | ~ 97.5% |"
   ]
  },
  {
   "cell_type": "code",
   "execution_count": null,
   "metadata": {},
   "outputs": [],
   "source": []
  }
 ],
 "metadata": {
  "kernelspec": {
   "display_name": "Python 3",
   "language": "python",
   "name": "python3"
  },
  "language_info": {
   "codemirror_mode": {
    "name": "ipython",
    "version": 3
   },
   "file_extension": ".py",
   "mimetype": "text/x-python",
   "name": "python",
   "nbconvert_exporter": "python",
   "pygments_lexer": "ipython3",
   "version": "3.6.3"
  }
 },
 "nbformat": 4,
 "nbformat_minor": 2
}
