{
 "cells": [
  {
   "cell_type": "markdown",
   "metadata": {},
   "source": [
    "## Simple XOR example using Keras\n",
    "\n",
    "**Description**: The 'Hello World' of practical Keras examples.\n",
    "\n",
    "**Created**: 4/2018"
   ]
  },
  {
   "cell_type": "markdown",
   "metadata": {},
   "source": [
    "### Imports"
   ]
  },
  {
   "cell_type": "code",
   "execution_count": 2,
   "metadata": {},
   "outputs": [
    {
     "name": "stderr",
     "output_type": "stream",
     "text": [
      "Using TensorFlow backend.\n"
     ]
    }
   ],
   "source": [
    "import matplotlib.pyplot as plt\n",
    "import numpy as np\n",
    "import pandas as pd\n",
    "\n",
    "import keras as k"
   ]
  },
  {
   "cell_type": "markdown",
   "metadata": {},
   "source": [
    "### Prepare Data"
   ]
  },
  {
   "cell_type": "code",
   "execution_count": 3,
   "metadata": {},
   "outputs": [],
   "source": [
    "# XOR dataset\n",
    "training_data = np.array([[0, 0], [0, 1], [1,0], [1, 1]])\n",
    "training_targets = np.array([[0], [1], [1], [0]])"
   ]
  },
  {
   "cell_type": "markdown",
   "metadata": {},
   "source": [
    "### Build Network"
   ]
  },
  {
   "cell_type": "code",
   "execution_count": 4,
   "metadata": {},
   "outputs": [],
   "source": [
    "# network shape\n",
    "n_input = training_data.shape[1]\n",
    "n_hidden = 5\n",
    "n_classes = 1\n",
    "\n",
    "# hyperparameters\n",
    "training_epochs = 100\n",
    "learning_rate = 0.1\n",
    "display_step = 10\n",
    "\n",
    "# model filename for save/load\n",
    "model_filename = './k_model.h5'"
   ]
  },
  {
   "cell_type": "code",
   "execution_count": 5,
   "metadata": {},
   "outputs": [],
   "source": [
    "# sequential\n",
    "model = k.models.Sequential()\n",
    "\n",
    "# create network\n",
    "model.add(k.layers.Dense(n_hidden, input_dim=n_input, activation='sigmoid'))\n",
    "model.add(k.layers.Dense(n_classes, activation='sigmoid'))\n",
    "\n",
    "# optimizer\n",
    "optimizer = k.optimizers.Adam(lr=learning_rate)\n",
    "\n",
    "# compile it\n",
    "model.compile(loss='mean_squared_error', optimizer=optimizer, metrics=['accuracy'])"
   ]
  },
  {
   "cell_type": "markdown",
   "metadata": {},
   "source": [
    "### Train Network"
   ]
  },
  {
   "cell_type": "code",
   "execution_count": 6,
   "metadata": {},
   "outputs": [],
   "source": [
    "# Train the model\n",
    "training_history = model.fit(training_data, training_targets, epochs=training_epochs, batch_size=4, verbose=0)\n",
    "\n",
    "# Save the model\n",
    "model.save(model_filename)"
   ]
  },
  {
   "cell_type": "markdown",
   "metadata": {},
   "source": [
    "### Plot"
   ]
  },
  {
   "cell_type": "code",
   "execution_count": 7,
   "metadata": {},
   "outputs": [
    {
     "data": {
      "text/plain": [
       "[<matplotlib.lines.Line2D at 0x1655d171080>]"
      ]
     },
     "execution_count": 7,
     "metadata": {},
     "output_type": "execute_result"
    },
    {
     "data": {
      "image/png": "[encoded data removed]",
      "text/plain": [
       "<matplotlib.figure.Figure at 0x1655cc497b8>"
      ]
     },
     "metadata": {},
     "output_type": "display_data"
    }
   ],
   "source": [
    "# To see saved history keys: print(training_history.history.keys())\n",
    "plt.plot(training_history.history['loss'])"
   ]
  },
  {
   "cell_type": "markdown",
   "metadata": {},
   "source": [
    "### Test"
   ]
  },
  {
   "cell_type": "code",
   "execution_count": 8,
   "metadata": {},
   "outputs": [
    {
     "name": "stdout",
     "output_type": "stream",
     "text": [
      "Accuracy: 94.4054%\n"
     ]
    }
   ],
   "source": [
    "# Load the model\n",
    "model = k.models.load_model(model_filename)\n",
    "\n",
    "# Test\n",
    "prediction = model.predict(training_data)\n",
    "\n",
    "# Accuracy\n",
    "accuracy = 1 - np.mean(abs(training_targets - prediction))\n",
    "print('Accuracy: {:.4f}%'.format(accuracy * 100))"
   ]
  },
  {
   "cell_type": "markdown",
   "metadata": {},
   "source": [
    "### Observations"
   ]
  },
  {
   "cell_type": "markdown",
   "metadata": {},
   "source": [
    "Almost too easy with Keras. Had to set the learning rate explicitly by creating the optimizer, then passing as parameter to model.compile(). "
   ]
  }
 ],
 "metadata": {
  "kernelspec": {
   "display_name": "Python 3",
   "language": "python",
   "name": "python3"
  },
  "language_info": {
   "codemirror_mode": {
    "name": "ipython",
    "version": 3
   },
   "file_extension": ".py",
   "mimetype": "text/x-python",
   "name": "python",
   "nbconvert_exporter": "python",
   "pygments_lexer": "ipython3",
   "version": "3.6.3"
  }
 },
 "nbformat": 4,
 "nbformat_minor": 2
}
